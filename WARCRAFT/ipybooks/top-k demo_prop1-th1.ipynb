{
 "cells": [
  {
   "cell_type": "code",
   "execution_count": 1,
   "metadata": {},
   "outputs": [],
   "source": [
    "import numpy as np\n",
    "import matplotlib.pyplot as plt\n",
    "import itertools\n",
    "from functools import partial"
   ]
  },
  {
   "cell_type": "code",
   "execution_count": 31,
   "metadata": {},
   "outputs": [],
   "source": [
    "# TODO (maybe) add convergence of the marginals for perturb and map shcemes, \n",
    "# and check with multiple temperatures of sum-of-gammas\n",
    "# use some other more appropriate distance rather than L2 (eg KL div.)"
   ]
  },
  {
   "cell_type": "code",
   "execution_count": 2,
   "metadata": {},
   "outputs": [],
   "source": [
    "rng = np.random.RandomState()"
   ]
  },
  {
   "cell_type": "code",
   "execution_count": 3,
   "metadata": {},
   "outputs": [],
   "source": [
    "# n choose k; top-k distribution (over n) \n",
    "n = 5\n",
    "k = 3"
   ]
  },
  {
   "cell_type": "code",
   "execution_count": 4,
   "metadata": {},
   "outputs": [],
   "source": [
    "# generate random parameters \n",
    "theta = rng.randn(n)"
   ]
  },
  {
   "cell_type": "code",
   "execution_count": 6,
   "metadata": {},
   "outputs": [],
   "source": [
    "def weight(x):  # maybe not useful... \n",
    "    return np.dot(theta, x)"
   ]
  },
  {
   "cell_type": "code",
   "execution_count": 7,
   "metadata": {},
   "outputs": [
    {
     "name": "stdout",
     "output_type": "stream",
     "text": [
      "Number of possible states: 10\n"
     ]
    }
   ],
   "source": [
    "# create all possible_states:\n",
    "combs = list(itertools.combinations(range(n), k))\n",
    "n_states = len(combs)\n",
    "assert n_states == np.math.factorial(n)/(np.math.factorial(k)*np.math.factorial(n-k))\n",
    "print('Number of possible states:', n_states)\n",
    "mat_x = np.zeros((len(combs), n))\n",
    "for i in range(n_states):\n",
    "    mat_x[i, combs[i]] = 1."
   ]
  },
  {
   "cell_type": "code",
   "execution_count": 8,
   "metadata": {},
   "outputs": [],
   "source": [
    "# create table of weights\n",
    "table_of_weights = mat_x @ theta"
   ]
  },
  {
   "cell_type": "code",
   "execution_count": 9,
   "metadata": {},
   "outputs": [],
   "source": [
    "# log partition fuction (that depends on theta)\n",
    "Z = np.log(np.sum(np.exp(table_of_weights)))"
   ]
  },
  {
   "cell_type": "code",
   "execution_count": 10,
   "metadata": {},
   "outputs": [],
   "source": [
    "# table of probabilities (aka probability mass function)\n",
    "pmf = np.exp(table_of_weights - Z)\n",
    "assert abs(np.sum(pmf) - 1) < 1.e-10  # checking that it sums to 1. (more or less)"
   ]
  },
  {
   "cell_type": "code",
   "execution_count": 11,
   "metadata": {},
   "outputs": [],
   "source": [
    "def get_pmf(_theta):\n",
    "    _tow = mat_x @ _theta\n",
    "    _Z = np.log(np.sum(np.exp(_tow)))\n",
    "    return np.exp(_tow - _Z)\n",
    "\n",
    "def MAP(_theta):\n",
    "    \"\"\"This is the MAP, according to Eq. (2) of the paper. \n",
    "    (this is the same as taking the state with the highest k theta_i..)\"\"\"\n",
    "    _pmf = get_pmf(_theta)\n",
    "    return np.argmax(_pmf)"
   ]
  },
  {
   "cell_type": "code",
   "execution_count": 12,
   "metadata": {},
   "outputs": [],
   "source": [
    "# compute true marginals \n",
    "marginals_from_pmf = (pmf.reshape((1, n_states)) @ mat_x).reshape((n,))"
   ]
  },
  {
   "cell_type": "code",
   "execution_count": 13,
   "metadata": {},
   "outputs": [
    {
     "data": {
      "text/plain": [
       "<BarContainer object of 5 artists>"
      ]
     },
     "execution_count": 13,
     "metadata": {},
     "output_type": "execute_result"
    },
    {
     "data": {
      "image/png": "[encoded data removed]",
      "text/plain": [
       "<Figure size 1152x288 with 3 Axes>"
      ]
     },
     "metadata": {
      "needs_background": "light"
     },
     "output_type": "display_data"
    }
   ],
   "source": [
    "# jsut a plot of the probability mass funciton unsorted and sorted\n",
    "fig, ax = plt.subplots(ncols=3, figsize=(16, 4))\n",
    "ax[1].bar(range(n_states), sorted(pmf));\n",
    "# plt.show()\n",
    "ax[0].bar(range(n_states), pmf);\n",
    "ax[2].bar(range(n), marginals_from_pmf)"
   ]
  },
  {
   "cell_type": "code",
   "execution_count": 14,
   "metadata": {},
   "outputs": [],
   "source": [
    "# define sampler for Gumbel(0, 1) and sum of Gammas from th 1\n",
    "\n",
    "def sample_gumbel(size):\n",
    "    return -np.log(-np.log(np.random.uniform(size=size)))\n",
    "\n",
    "def sample_sum_of_gammas(_k, size, s=100):\n",
    "    \"\"\"These should be the epsilons from Th. 1. \"\"\"\n",
    "    return (np.sum([\n",
    "        np.random.gamma(1./_k, _k/i, size=size) for i in range(1, s+1)\n",
    "    ], axis=0) - np.log(s))/_k\n",
    "\n",
    "def no_perturb(size):\n",
    "    return np.zeros(size)\n",
    "\n",
    "sample_sog_k = partial(sample_sum_of_gammas, k)"
   ]
  },
  {
   "cell_type": "code",
   "execution_count": 15,
   "metadata": {},
   "outputs": [
    {
     "data": {
      "text/plain": [
       "[<matplotlib.lines.Line2D at 0x1ffe67ed358>]"
      ]
     },
     "execution_count": 15,
     "metadata": {},
     "output_type": "execute_result"
    },
    {
     "data": {
      "image/png": "[encoded data removed]",
      "text/plain": [
       "<Figure size 432x288 with 1 Axes>"
      ]
     },
     "metadata": {
      "needs_background": "light"
     },
     "output_type": "display_data"
    }
   ],
   "source": [
    "# preposition 1 first. We perturb the table of weiths with gumbels\n",
    "samples = 100000\n",
    "amaxx = []\n",
    "empirical_pmf_gumb_p1 = np.zeros((n_states))\n",
    "norm_of_diff = []\n",
    "for i in range(samples):\n",
    "    mapp = np.argmax(table_of_weights + sample_gumbel(n_states))  # taking the MAP\n",
    "    amaxx.append(mapp)  # perturb and map (the table of weights)\n",
    "    empirical_pmf_gumb_p1[mapp] += 1\n",
    "    norm_of_diff.append(np.linalg.norm(empirical_pmf_gumb_p1/(i+1) - pmf))\n",
    "plt.semilogy(norm_of_diff)\n",
    "# looks good... seems to converge toward 0 (albeit slowly). \n",
    "# I'm just computing the Euclidan distance between the two PMF. I know it's not correct, \n",
    "# but still should go toward 0.."
   ]
  },
  {
   "cell_type": "code",
   "execution_count": 16,
   "metadata": {},
   "outputs": [
    {
     "data": {
      "text/plain": [
       "[<matplotlib.lines.Line2D at 0x1ffe6d3d3c8>]"
      ]
     },
     "execution_count": 16,
     "metadata": {},
     "output_type": "execute_result"
    },
    {
     "data": {
      "image/png": "[encoded data removed]",
      "text/plain": [
       "<Figure size 432x288 with 1 Axes>"
      ]
     },
     "metadata": {
      "needs_background": "light"
     },
     "output_type": "display_data"
    }
   ],
   "source": [
    "# let's try to perturb the weighs now\n",
    "samples = 100000\n",
    "amaxx = []\n",
    "empirical_pmf_gumb_p1 = np.zeros((n_states))\n",
    "norm_of_diff_perturb_weights = []\n",
    "for i in range(samples):\n",
    "    mapp = MAP(theta + sample_gumbel(n))\n",
    "    amaxx.append(mapp)  # perturb and map (the table of weights)\n",
    "    empirical_pmf_gumb_p1[mapp] += 1\n",
    "    norm_of_diff_perturb_weights.append(np.linalg.norm(empirical_pmf_gumb_p1/(i+1) - pmf))\n",
    "plt.semilogy(norm_of_diff)\n",
    "plt.semilogy(norm_of_diff_perturb_weights)\n",
    "# ok, this is good.. now.."
   ]
  },
  {
   "cell_type": "code",
   "execution_count": 17,
   "metadata": {},
   "outputs": [],
   "source": [
    "# let' try th 1..."
   ]
  },
  {
   "cell_type": "code",
   "execution_count": 26,
   "metadata": {},
   "outputs": [],
   "source": [
    "def sog_th1(s=10, temp=1.):\n",
    "    return (temp/k)*(\n",
    "        np.sum([rng.gamma(1./k, (1.0*k)/(i+1.)) for i in range(s)]) - np.log(s)\n",
    "    )"
   ]
  },
  {
   "cell_type": "code",
   "execution_count": 20,
   "metadata": {},
   "outputs": [
    {
     "data": {
      "text/plain": [
       "-0.4345262273046096"
      ]
     },
     "execution_count": 20,
     "metadata": {},
     "output_type": "execute_result"
    }
   ],
   "source": [
    "sog_th1()"
   ]
  },
  {
   "cell_type": "code",
   "execution_count": 21,
   "metadata": {},
   "outputs": [],
   "source": [
    "# check that the sum behaves like gumbel\n",
    "n_samples = 10000\n",
    "samples = []\n",
    "for i in range(n_samples):\n",
    "    samples.append(np.sum([sog_th1() for _ in range(k)]))"
   ]
  },
  {
   "cell_type": "code",
   "execution_count": 22,
   "metadata": {},
   "outputs": [
    {
     "data": {
      "text/plain": [
       "[<matplotlib.lines.Line2D at 0x1ffe8f3b208>]"
      ]
     },
     "execution_count": 22,
     "metadata": {},
     "output_type": "execute_result"
    },
    {
     "data": {
      "image/png": "[encoded data removed]",
      "text/plain": [
       "<Figure size 432x288 with 1 Axes>"
      ]
     },
     "metadata": {
      "needs_background": "light"
     },
     "output_type": "display_data"
    }
   ],
   "source": [
    "plt.hist(samples, density=True, bins=50);\n",
    "x = np.linspace(-2, 8, num=100)\n",
    "plt.plot(x, np.exp(-x - np.exp(-x)))\n",
    "# seems good"
   ]
  },
  {
   "cell_type": "code",
   "execution_count": 36,
   "metadata": {},
   "outputs": [],
   "source": [
    "# perturbation of the weights with sum-of-gammas\n",
    "temperature = k\n",
    "samples = 100000\n",
    "amaxx = []\n",
    "empirical_pmf_sog_th1 = np.zeros((n_states))\n",
    "norm_of_diff_perturb_weights_sog = []\n",
    "save_sum_of_perturbations_actually_used = []\n",
    "\n",
    "for i in range(samples):\n",
    "    sog_perturbation = np.array([sog_th1(temp=temperature) for _ in range(n)])\n",
    "    tilde_theta = theta + sog_perturbation\n",
    "    \n",
    "    mapp = MAP(tilde_theta)\n",
    "    x_mappp = mat_x[mapp]\n",
    "    \n",
    "    save_sum_of_perturbations_actually_used.append(np.dot(sog_perturbation, x_mappp))\n",
    "    amaxx.append(mapp)  # perturb and map (the table of weights)\n",
    "    empirical_pmf_sog_th1[mapp] += 1\n",
    "    norm_of_diff_perturb_weights_sog.append(np.linalg.norm(empirical_pmf_sog_th1/(i+1) - pmf))"
   ]
  },
  {
   "cell_type": "code",
   "execution_count": 37,
   "metadata": {},
   "outputs": [
    {
     "data": {
      "image/png": "[encoded data removed]",
      "text/plain": [
       "<Figure size 432x288 with 1 Axes>"
      ]
     },
     "metadata": {
      "needs_background": "light"
     },
     "output_type": "display_data"
    }
   ],
   "source": [
    "plt.semilogy(norm_of_diff, label='Gumbel on ToW (pr. 1)')\n",
    "plt.semilogy(norm_of_diff_perturb_weights, label='Gumbel on theta')\n",
    "plt.semilogy(norm_of_diff_perturb_weights_sog, label='Sum of Gammas on theta')\n",
    "plt.legend(loc=0)\n",
    "plt.ylabel('Distance between PMFs');"
   ]
  },
  {
   "cell_type": "code",
   "execution_count": 29,
   "metadata": {},
   "outputs": [
    {
     "data": {
      "text/plain": [
       "(array([0.21385, 0.01612, 0.0233 , 0.02847, 0.03991, 0.00454, 0.2444 ,\n",
       "        0.35996, 0.02549, 0.04396]),\n",
       " array([0.19512162, 0.01712324, 0.02794816, 0.02536373, 0.04139811,\n",
       "        0.00363296, 0.23075961, 0.37664056, 0.03305275, 0.04895926]))"
      ]
     },
     "execution_count": 29,
     "metadata": {},
     "output_type": "execute_result"
    }
   ],
   "source": [
    "empirical_pmf_sog_th1/samples, pmf"
   ]
  },
  {
   "cell_type": "code",
   "execution_count": 26,
   "metadata": {},
   "outputs": [
    {
     "data": {
      "image/png": "[encoded data removed]",
      "text/plain": [
       "<Figure size 432x288 with 1 Axes>"
      ]
     },
     "metadata": {
      "needs_background": "light"
     },
     "output_type": "display_data"
    }
   ],
   "source": [
    "plt.hist(save_sum_of_perturbations_actually_used, density=True, bins=50);\n",
    "# these again look good.. "
   ]
  },
  {
   "cell_type": "code",
   "execution_count": null,
   "metadata": {},
   "outputs": [],
   "source": []
  },
  {
   "cell_type": "markdown",
   "metadata": {},
   "source": [
    "One thing that came to my mind is that by perturbing the weiights only (with any distribution actually), it's basically the same (in expectation) as summing to the table of weights the same number, which leads to sampling basically the same state. "
   ]
  },
  {
   "cell_type": "code",
   "execution_count": 27,
   "metadata": {},
   "outputs": [
    {
     "data": {
      "text/plain": [
       "[<matplotlib.lines.Line2D at 0x1d13710f748>]"
      ]
     },
     "execution_count": 27,
     "metadata": {},
     "output_type": "execute_result"
    },
    {
     "data": {
      "image/png": "[encoded data removed]",
      "text/plain": [
       "<Figure size 432x288 with 1 Axes>"
      ]
     },
     "metadata": {
      "needs_background": "light"
     },
     "output_type": "display_data"
    }
   ],
   "source": [
    "# preposition 1 first. We perturb the table of weiths with gumbels\n",
    "samples = 100000\n",
    "amaxx = []\n",
    "empirical_pmf_gumb_p1 = np.zeros((n_states))\n",
    "norm_of_diff = []\n",
    "for i in range(samples):\n",
    "    one_gumbel = sample_gumbel(None)\n",
    "    mapp = np.argmax(table_of_weights + one_gumbel)\n",
    "    amaxx.append(mapp)  # perturb and map (the table of weights)\n",
    "    empirical_pmf_gumb_p1[mapp] += 1\n",
    "    norm_of_diff.append(np.linalg.norm(empirical_pmf_gumb_p1/(i+1) - pmf))\n",
    "plt.semilogy(norm_of_diff)\n",
    "# looks good... kind of"
   ]
  },
  {
   "cell_type": "code",
   "execution_count": 27,
   "metadata": {},
   "outputs": [
    {
     "name": "stdout",
     "output_type": "stream",
     "text": [
      "[0. 0. 0. 0. 0. 0. 0. 0. 1. 0.]\n"
     ]
    }
   ],
   "source": [
    "print(empirical_pmf_gumb_p1/samples)\n",
    "# this is of course the map state"
   ]
  },
  {
   "cell_type": "code",
   "execution_count": 28,
   "metadata": {},
   "outputs": [
    {
     "name": "stdout",
     "output_type": "stream",
     "text": [
      "[6.5000e-04 3.7890e-02 4.1780e-02 3.5000e-04 4.1000e-04 2.8730e-02\n",
      " 8.7200e-03 9.4200e-03 8.6544e-01 6.6100e-03]\n"
     ]
    }
   ],
   "source": [
    "print(empirical_pmf_sog_th1/samples)\n",
    "# in fact the empirical PMF is quite close to the map state...."
   ]
  },
  {
   "cell_type": "code",
   "execution_count": 28,
   "metadata": {},
   "outputs": [],
   "source": [
    "# let us now perturb the table of weights with independent sum of gammas. \n",
    "# this is of course not feasible in practice, but still...\n",
    "samples = 100000\n",
    "amaxx = []\n",
    "empirical_pmf_sog_th1_tow = np.zeros((n_states))\n",
    "norm_of_diff_perturb_weights_sog_tow = []\n",
    "\n",
    "for i in range(samples):\n",
    "    tow_pert = []\n",
    "    for st in mat_x: # cycle w.r.t. the states\n",
    "        sog_perturbation = np.array([sog_th1() for _ in range(n)])\n",
    "        tilde_theta = theta + sog_perturbation\n",
    "        tow_pert.append(tilde_theta @ st)\n",
    "    \n",
    "    mapp = np.argmax(tow_pert)\n",
    "\n",
    "    amaxx.append(mapp)  # perturb and map (the table of weights)\n",
    "    empirical_pmf_sog_th1_tow[mapp] += 1\n",
    "    norm_of_diff_perturb_weights_sog_tow.append(np.linalg.norm(empirical_pmf_sog_th1_tow/(i+1) - pmf))"
   ]
  },
  {
   "cell_type": "code",
   "execution_count": 30,
   "metadata": {},
   "outputs": [
    {
     "data": {
      "image/png": "[encoded data removed]",
      "text/plain": [
       "<Figure size 432x288 with 1 Axes>"
      ]
     },
     "metadata": {
      "needs_background": "light"
     },
     "output_type": "display_data"
    }
   ],
   "source": [
    "plt.semilogy(norm_of_diff, label='Gumbel on ToW (pr. 1)')\n",
    "plt.semilogy(norm_of_diff_perturb_weights, label='Gumbel on theta')\n",
    "plt.semilogy(norm_of_diff_perturb_weights_sog_tow, label='Sum of Gammas on theta')\n",
    "plt.legend(loc=0)\n",
    "plt.ylabel('Distance between PMFs');"
   ]
  },
  {
   "cell_type": "code",
   "execution_count": 34,
   "metadata": {},
   "outputs": [
    {
     "data": {
      "text/plain": [
       "(array([0.14442, 0.09534, 0.06352, 0.08424, 0.05645, 0.03657, 0.20528,\n",
       "        0.13932, 0.09261, 0.08225]),\n",
       " array([0.14175128, 0.09508767, 0.06470998, 0.08364373, 0.05692203,\n",
       "        0.03818367, 0.20472011, 0.13931809, 0.09345548, 0.08220797]))"
      ]
     },
     "execution_count": 34,
     "metadata": {},
     "output_type": "execute_result"
    }
   ],
   "source": [
    "empirical_pmf_sog_th1_tow/samples, pmf"
   ]
  },
  {
   "cell_type": "code",
   "execution_count": null,
   "metadata": {},
   "outputs": [],
   "source": []
  }
 ],
 "metadata": {
  "kernelspec": {
   "display_name": "Python 3",
   "language": "python",
   "name": "python3"
  },
  "language_info": {
   "codemirror_mode": {
    "name": "ipython",
    "version": 3
   },
   "file_extension": ".py",
   "mimetype": "text/x-python",
   "name": "python",
   "nbconvert_exporter": "python",
   "pygments_lexer": "ipython3",
   "version": "3.7.3"
  }
 },
 "nbformat": 4,
 "nbformat_minor": 2
}